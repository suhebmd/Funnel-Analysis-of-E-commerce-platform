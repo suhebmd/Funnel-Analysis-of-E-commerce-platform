{
 "cells": [
  {
   "cell_type": "code",
   "execution_count": 2,
   "metadata": {},
   "outputs": [],
   "source": [
    "import numpy as np\n",
    "import pandas as pd\n",
    "import matplotlib.pyplot as plt\n",
    "%matplotlib inline\n",
    "import seaborn as sns\n",
    "import graphviz\n",
    "from graphviz import Source\n",
    "from IPython.display import Image\n",
    "from sklearn.tree import DecisionTreeClassifier\n",
    "from sklearn.tree import export_graphviz\n",
    "from sklearn import preprocessing"
   ]
  },
  {
   "cell_type": "code",
   "execution_count": 2,
   "metadata": {},
   "outputs": [
    {
     "name": "stdout",
     "output_type": "stream",
     "text": [
      " Volume in drive C is Acer\n",
      " Volume Serial Number is 3E7E-200F\n",
      "\n",
      " Directory of C:\\Users\\kalyani raghavendra\n",
      "\n",
      "23-07-2020  12.48 PM    <DIR>          .\n",
      "23-07-2020  12.48 PM    <DIR>          ..\n",
      "17-10-2019  02.42 PM    <DIR>          .anaconda\n",
      "20-07-2020  03.52 PM    <DIR>          .conda\n",
      "16-06-2020  05.06 PM                43 .condarc\n",
      "18-01-2020  12.52 PM    <DIR>          .config\n",
      "19-04-2020  04.41 PM               186 .gitconfig\n",
      "20-07-2020  02.53 PM    <DIR>          .ipynb_checkpoints\n",
      "17-10-2019  02.45 PM    <DIR>          .ipython\n",
      "17-10-2019  02.48 PM    <DIR>          .jupyter\n",
      "17-10-2019  02.47 PM    <DIR>          .matplotlib\n",
      "05-04-2020  11.55 AM    <DIR>          .spyder-py3\n",
      "22-07-2020  11.39 AM    <DIR>          3D Objects\n",
      "23-07-2020  10.58 AM         2,699,740 all_merged.csv\n",
      "20-07-2020  03.52 PM    <DIR>          Anaconda3\n",
      "13-07-2020  11.35 AM           228,664 Assignment.ipynb\n",
      "22-07-2020  11.39 AM    <DIR>          Contacts\n",
      "22-07-2020  11.39 AM    <DIR>          Desktop\n",
      "22-07-2020  11.39 AM    <DIR>          Documents\n",
      "22-07-2020  11.39 AM    <DIR>          Downloads\n",
      "22-07-2020  11.39 AM    <DIR>          Favorites\n",
      "22-07-2020  11.39 AM    <DIR>          Links\n",
      "01-04-2020  07.15 PM               383 Machine Learning A-Z\n",
      "05-04-2020  06.26 PM             1,200 Machine Learning A-Z.ipynb\n",
      "05-04-2020  11.02 PM               653 Machine Learning A-Z.py\n",
      "03-03-2020  06.53 PM    <DIR>          Microsoft\n",
      "23-07-2020  12.48 PM             8,261 Mini Project.ipynb\n",
      "17-02-2020  09.36 AM            31,910 ML and Data Mining.ipynb\n",
      "22-07-2020  11.39 AM    <DIR>          Music\n",
      "23-07-2020  11.27 AM    <DIR>          OneDrive\n",
      "22-07-2020  11.39 AM    <DIR>          Pictures\n",
      "12-07-2020  02.23 PM           257,790 Projects.ipynb\n",
      "13-07-2020  11.55 AM           523,512 Python - Data Analytics Course.ipynb\n",
      "13-07-2020  11.53 AM           136,950 Python for Data Analytics.ipynb\n",
      "14-07-2020  07.45 PM           676,322 Python Practice appliedAI.ipynb\n",
      "22-07-2020  11.39 AM    <DIR>          Saved Games\n",
      "22-07-2020  11.39 AM    <DIR>          Searches\n",
      "12-07-2020  02.11 PM           670,845 test_modified.csv\n",
      "16-05-2020  01.02 AM            10,277 The self taught programmer.ipynb\n",
      "12-07-2020  02.11 PM           982,314 train_modified.csv\n",
      "23-07-2020  10.59 AM             1,796 tree_payment_conf_desktop.dot\n",
      "23-07-2020  10.59 AM            29,179 tree_payment_conf_desktop.dot.pdf\n",
      "23-07-2020  10.58 AM             1,080 tree_payment_conf_mobile.dot\n",
      "23-07-2020  10.58 AM            29,392 tree_payment_conf_mobile.dot.pdf\n",
      "22-07-2020  11.39 AM    <DIR>          Videos\n",
      "              20 File(s)      6,290,497 bytes\n",
      "              25 Dir(s)  325,830,225,920 bytes free\n"
     ]
    }
   ],
   "source": [
    "ls"
   ]
  },
  {
   "cell_type": "code",
   "execution_count": 3,
   "metadata": {},
   "outputs": [
    {
     "name": "stdout",
     "output_type": "stream",
     "text": [
      "90400\n"
     ]
    },
    {
     "data": {
      "text/html": [
       "<div>\n",
       "<style scoped>\n",
       "    .dataframe tbody tr th:only-of-type {\n",
       "        vertical-align: middle;\n",
       "    }\n",
       "\n",
       "    .dataframe tbody tr th {\n",
       "        vertical-align: top;\n",
       "    }\n",
       "\n",
       "    .dataframe thead th {\n",
       "        text-align: right;\n",
       "    }\n",
       "</style>\n",
       "<table border=\"1\" class=\"dataframe\">\n",
       "  <thead>\n",
       "    <tr style=\"text-align: right;\">\n",
       "      <th></th>\n",
       "      <th>user_id</th>\n",
       "      <th>device</th>\n",
       "      <th>sex</th>\n",
       "      <th>year</th>\n",
       "      <th>month</th>\n",
       "      <th>day_of_week</th>\n",
       "    </tr>\n",
       "  </thead>\n",
       "  <tbody>\n",
       "    <tr>\n",
       "      <td>0</td>\n",
       "      <td>450007</td>\n",
       "      <td>Desktop</td>\n",
       "      <td>Female</td>\n",
       "      <td>2015</td>\n",
       "      <td>2</td>\n",
       "      <td>5</td>\n",
       "    </tr>\n",
       "    <tr>\n",
       "      <td>1</td>\n",
       "      <td>756838</td>\n",
       "      <td>Desktop</td>\n",
       "      <td>Male</td>\n",
       "      <td>2015</td>\n",
       "      <td>1</td>\n",
       "      <td>1</td>\n",
       "    </tr>\n",
       "    <tr>\n",
       "      <td>2</td>\n",
       "      <td>568983</td>\n",
       "      <td>Desktop</td>\n",
       "      <td>Male</td>\n",
       "      <td>2015</td>\n",
       "      <td>9</td>\n",
       "      <td>4</td>\n",
       "    </tr>\n",
       "    <tr>\n",
       "      <td>3</td>\n",
       "      <td>190794</td>\n",
       "      <td>Desktop</td>\n",
       "      <td>Female</td>\n",
       "      <td>2015</td>\n",
       "      <td>2</td>\n",
       "      <td>2</td>\n",
       "    </tr>\n",
       "    <tr>\n",
       "      <td>4</td>\n",
       "      <td>537909</td>\n",
       "      <td>Desktop</td>\n",
       "      <td>Male</td>\n",
       "      <td>2015</td>\n",
       "      <td>1</td>\n",
       "      <td>3</td>\n",
       "    </tr>\n",
       "  </tbody>\n",
       "</table>\n",
       "</div>"
      ],
      "text/plain": [
       "   user_id   device     sex  year  month  day_of_week\n",
       "0   450007  Desktop  Female  2015      2            5\n",
       "1   756838  Desktop    Male  2015      1            1\n",
       "2   568983  Desktop    Male  2015      9            4\n",
       "3   190794  Desktop  Female  2015      2            2\n",
       "4   537909  Desktop    Male  2015      1            3"
      ]
     },
     "execution_count": 3,
     "metadata": {},
     "output_type": "execute_result"
    }
   ],
   "source": [
    "user_table = pd.read_csv('C:/Users/kalyani raghavendra/Desktop/Mini Project/user_table.csv')\n",
    "print(len(user_table))\n",
    "user_table.head()\n",
    "user_table['date'] = pd.to_datetime(user_table['date'])\n",
    "user_table['year'] = pd.DatetimeIndex(user_table['date']).year\n",
    "user_table['month'] = pd.DatetimeIndex(user_table['date']).month\n",
    "user_table['day_of_week'] = pd.DatetimeIndex(user_table['date']).dayofweek\n",
    "user_table.drop(['date'], axis = 1, inplace = True)\n",
    "user_table.head()"
   ]
  },
  {
   "cell_type": "code",
   "execution_count": 4,
   "metadata": {},
   "outputs": [
    {
     "name": "stdout",
     "output_type": "stream",
     "text": [
      "[2015]\n"
     ]
    }
   ],
   "source": [
    "print(user_table['year'].unique())"
   ]
  },
  {
   "cell_type": "code",
   "execution_count": 5,
   "metadata": {},
   "outputs": [],
   "source": [
    "user_table.drop(['year'], axis = 1, inplace = True)"
   ]
  },
  {
   "cell_type": "code",
   "execution_count": 6,
   "metadata": {},
   "outputs": [
    {
     "name": "stdout",
     "output_type": "stream",
     "text": [
      "90400 1.0\n",
      "   user_id       page\n",
      "0   313593  home_page\n",
      "1   468315  home_page\n",
      "2   264005  home_page\n",
      "3   290784  home_page\n",
      "4   639104  home_page\n",
      "45200 0.5\n",
      "   user_id         page\n",
      "0    15866  search_page\n",
      "1   347058  search_page\n",
      "2   577020  search_page\n",
      "3   780347  search_page\n",
      "4   383739  search_page\n",
      "6030 0.06670353982300885\n",
      "   user_id          page\n",
      "0   253019  payment_page\n",
      "1   310478  payment_page\n",
      "2   304081  payment_page\n",
      "3   901286  payment_page\n",
      "4   195052  payment_page\n",
      "452 0.005\n",
      "   user_id                       page\n",
      "0   123100  payment_confirmation_page\n",
      "1   704999  payment_confirmation_page\n",
      "2   407188  payment_confirmation_page\n",
      "3   538348  payment_confirmation_page\n",
      "4   841681  payment_confirmation_page\n"
     ]
    }
   ],
   "source": [
    "home_page_table = pd.read_csv('C:/Users/kalyani raghavendra/Desktop/Mini Project/home_page_table.csv')\n",
    "print(len(home_page_table), len(home_page_table)/len(home_page_table))\n",
    "print(home_page_table.head())\n",
    "search_page_table = pd.read_csv('C:/Users/kalyani raghavendra/Desktop/Mini Project/search_page_table.csv')\n",
    "print(len(search_page_table), len(search_page_table)/len(home_page_table))\n",
    "print(search_page_table.head())\n",
    "payment_page_table = pd.read_csv('C:/Users/kalyani raghavendra/Desktop/Mini Project/payment_page_table.csv')\n",
    "print(len(payment_page_table), len(payment_page_table)/len(home_page_table))\n",
    "print(payment_page_table.head())\n",
    "payment_confirmation_table = pd.read_csv('C:/Users/kalyani raghavendra/Desktop/Mini Project/payment_confirmation_table.csv')\n",
    "print(len(payment_confirmation_table), len(payment_confirmation_table)/len(home_page_table))\n",
    "print(payment_confirmation_table.head())"
   ]
  },
  {
   "cell_type": "code",
   "execution_count": 7,
   "metadata": {},
   "outputs": [
    {
     "data": {
      "text/html": [
       "<div>\n",
       "<style scoped>\n",
       "    .dataframe tbody tr th:only-of-type {\n",
       "        vertical-align: middle;\n",
       "    }\n",
       "\n",
       "    .dataframe tbody tr th {\n",
       "        vertical-align: top;\n",
       "    }\n",
       "\n",
       "    .dataframe thead th {\n",
       "        text-align: right;\n",
       "    }\n",
       "</style>\n",
       "<table border=\"1\" class=\"dataframe\">\n",
       "  <thead>\n",
       "    <tr style=\"text-align: right;\">\n",
       "      <th></th>\n",
       "      <th>user_id</th>\n",
       "      <th>device</th>\n",
       "      <th>sex</th>\n",
       "      <th>month</th>\n",
       "      <th>day_of_week</th>\n",
       "      <th>page_home_page</th>\n",
       "      <th>page_search_page</th>\n",
       "      <th>page_payment_page</th>\n",
       "      <th>page_payment_confirmation_page</th>\n",
       "    </tr>\n",
       "  </thead>\n",
       "  <tbody>\n",
       "    <tr>\n",
       "      <td>0</td>\n",
       "      <td>450007</td>\n",
       "      <td>Desktop</td>\n",
       "      <td>Female</td>\n",
       "      <td>2</td>\n",
       "      <td>5</td>\n",
       "      <td>1</td>\n",
       "      <td>0</td>\n",
       "      <td>0</td>\n",
       "      <td>0</td>\n",
       "    </tr>\n",
       "    <tr>\n",
       "      <td>1</td>\n",
       "      <td>756838</td>\n",
       "      <td>Desktop</td>\n",
       "      <td>Male</td>\n",
       "      <td>1</td>\n",
       "      <td>1</td>\n",
       "      <td>1</td>\n",
       "      <td>0</td>\n",
       "      <td>0</td>\n",
       "      <td>0</td>\n",
       "    </tr>\n",
       "    <tr>\n",
       "      <td>2</td>\n",
       "      <td>568983</td>\n",
       "      <td>Desktop</td>\n",
       "      <td>Male</td>\n",
       "      <td>9</td>\n",
       "      <td>4</td>\n",
       "      <td>1</td>\n",
       "      <td>1</td>\n",
       "      <td>0</td>\n",
       "      <td>0</td>\n",
       "    </tr>\n",
       "    <tr>\n",
       "      <td>3</td>\n",
       "      <td>190794</td>\n",
       "      <td>Desktop</td>\n",
       "      <td>Female</td>\n",
       "      <td>2</td>\n",
       "      <td>2</td>\n",
       "      <td>1</td>\n",
       "      <td>1</td>\n",
       "      <td>0</td>\n",
       "      <td>0</td>\n",
       "    </tr>\n",
       "    <tr>\n",
       "      <td>4</td>\n",
       "      <td>537909</td>\n",
       "      <td>Desktop</td>\n",
       "      <td>Male</td>\n",
       "      <td>1</td>\n",
       "      <td>3</td>\n",
       "      <td>1</td>\n",
       "      <td>0</td>\n",
       "      <td>0</td>\n",
       "      <td>0</td>\n",
       "    </tr>\n",
       "  </tbody>\n",
       "</table>\n",
       "</div>"
      ],
      "text/plain": [
       "   user_id   device     sex  month  day_of_week  page_home_page  \\\n",
       "0   450007  Desktop  Female      2            5               1   \n",
       "1   756838  Desktop    Male      1            1               1   \n",
       "2   568983  Desktop    Male      9            4               1   \n",
       "3   190794  Desktop  Female      2            2               1   \n",
       "4   537909  Desktop    Male      1            3               1   \n",
       "\n",
       "   page_search_page  page_payment_page  page_payment_confirmation_page  \n",
       "0                 0                  0                               0  \n",
       "1                 0                  0                               0  \n",
       "2                 1                  0                               0  \n",
       "3                 1                  0                               0  \n",
       "4                 0                  0                               0  "
      ]
     },
     "execution_count": 7,
     "metadata": {},
     "output_type": "execute_result"
    }
   ],
   "source": [
    "def dummy_df(df, df_list):\n",
    "    for i in df_list:\n",
    "        df = pd.get_dummies(pd.merge(df, i, on = ['user_id'], how = 'left'), prefix_sep = '_', columns = ['page'])\n",
    "    return df\n",
    "df_list = [home_page_table, search_page_table, payment_page_table, payment_confirmation_table]\n",
    "df = dummy_df(user_table, df_list)\n",
    "df.head()"
   ]
  },
  {
   "cell_type": "code",
   "execution_count": 8,
   "metadata": {},
   "outputs": [
    {
     "data": {
      "image/png": "[encoded data removed]",
      "text/plain": [
       "<Figure size 432x288 with 1 Axes>"
      ]
     },
     "metadata": {
      "needs_background": "light"
     },
     "output_type": "display_data"
    },
    {
     "data": {
      "image/png": "[encoded data removed]",
      "text/plain": [
       "<Figure size 432x288 with 1 Axes>"
      ]
     },
     "metadata": {
      "needs_background": "light"
     },
     "output_type": "display_data"
    },
    {
     "data": {
      "image/png": "[encoded data removed]",
      "text/plain": [
       "<Figure size 432x288 with 1 Axes>"
      ]
     },
     "metadata": {
      "needs_background": "light"
     },
     "output_type": "display_data"
    }
   ],
   "source": [
    "def funnel_chart(df, columns, Title):\n",
    "    counts = []\n",
    "    for i in columns:\n",
    "        counts.append(len(df.loc[df[i] == 1][i]))\n",
    "    y_pos = np.arange(1, len(counts)+1)\n",
    "    plt.bar(y_pos, counts, align= 'center', alpha = 0.8)\n",
    "    plt.xticks(y_pos, ['home', 'search','payment','payment_confirmation'])\n",
    "    plt.xlabel('Page')\n",
    "    plt.title(Title)\n",
    "    plt.show()\n",
    "page_list = ['page_home_page', 'page_search_page', 'page_payment_page', 'page_payment_confirmation_page']\n",
    "funnel_chart(df, page_list, 'all')\n",
    "funnel_chart(df.loc[df['device'] == 'Desktop'], page_list, 'Desktop')\n",
    "funnel_chart(df.loc[df['device'] == 'Mobile'], page_list, 'Mobile')"
   ]
  },
  {
   "cell_type": "code",
   "execution_count": 9,
   "metadata": {},
   "outputs": [
    {
     "data": {
      "image/png": "[encoded data removed]",
      "text/plain": [
       "<Figure size 432x288 with 1 Axes>"
      ]
     },
     "metadata": {
      "needs_background": "light"
     },
     "output_type": "display_data"
    },
    {
     "data": {
      "image/png": "[encoded data removed]",
      "text/plain": [
       "<Figure size 432x288 with 1 Axes>"
      ]
     },
     "metadata": {
      "needs_background": "light"
     },
     "output_type": "display_data"
    }
   ],
   "source": [
    "funnel_chart(df.loc[df['sex'] == 'Male'], ['page_home_page', 'page_search_page', 'page_payment_page', \n",
    "                                           'page_payment_confirmation_page'], 'Male')\n",
    "funnel_chart(df.loc[df['sex'] == 'Female'], ['page_home_page', 'page_search_page', 'page_payment_page', \n",
    "                                           'page_payment_confirmation_page'], 'Female')"
   ]
  },
  {
   "cell_type": "code",
   "execution_count": 10,
   "metadata": {},
   "outputs": [
    {
     "data": {
      "text/html": [
       "<div>\n",
       "<style scoped>\n",
       "    .dataframe tbody tr th:only-of-type {\n",
       "        vertical-align: middle;\n",
       "    }\n",
       "\n",
       "    .dataframe tbody tr th {\n",
       "        vertical-align: top;\n",
       "    }\n",
       "\n",
       "    .dataframe thead th {\n",
       "        text-align: right;\n",
       "    }\n",
       "</style>\n",
       "<table border=\"1\" class=\"dataframe\">\n",
       "  <thead>\n",
       "    <tr style=\"text-align: right;\">\n",
       "      <th></th>\n",
       "      <th>user_id</th>\n",
       "      <th>device</th>\n",
       "      <th>sex</th>\n",
       "      <th>month</th>\n",
       "      <th>day_of_week</th>\n",
       "      <th>page_home_page</th>\n",
       "      <th>page_search_page</th>\n",
       "      <th>page_payment_page</th>\n",
       "      <th>page_payment_confirmation_page</th>\n",
       "    </tr>\n",
       "  </thead>\n",
       "  <tbody>\n",
       "    <tr>\n",
       "      <td>0</td>\n",
       "      <td>450007</td>\n",
       "      <td>0</td>\n",
       "      <td>0</td>\n",
       "      <td>2</td>\n",
       "      <td>5</td>\n",
       "      <td>1</td>\n",
       "      <td>0</td>\n",
       "      <td>0</td>\n",
       "      <td>0</td>\n",
       "    </tr>\n",
       "    <tr>\n",
       "      <td>1</td>\n",
       "      <td>756838</td>\n",
       "      <td>0</td>\n",
       "      <td>1</td>\n",
       "      <td>1</td>\n",
       "      <td>1</td>\n",
       "      <td>1</td>\n",
       "      <td>0</td>\n",
       "      <td>0</td>\n",
       "      <td>0</td>\n",
       "    </tr>\n",
       "    <tr>\n",
       "      <td>2</td>\n",
       "      <td>568983</td>\n",
       "      <td>0</td>\n",
       "      <td>1</td>\n",
       "      <td>9</td>\n",
       "      <td>4</td>\n",
       "      <td>1</td>\n",
       "      <td>1</td>\n",
       "      <td>0</td>\n",
       "      <td>0</td>\n",
       "    </tr>\n",
       "    <tr>\n",
       "      <td>3</td>\n",
       "      <td>190794</td>\n",
       "      <td>0</td>\n",
       "      <td>0</td>\n",
       "      <td>2</td>\n",
       "      <td>2</td>\n",
       "      <td>1</td>\n",
       "      <td>1</td>\n",
       "      <td>0</td>\n",
       "      <td>0</td>\n",
       "    </tr>\n",
       "    <tr>\n",
       "      <td>4</td>\n",
       "      <td>537909</td>\n",
       "      <td>0</td>\n",
       "      <td>1</td>\n",
       "      <td>1</td>\n",
       "      <td>3</td>\n",
       "      <td>1</td>\n",
       "      <td>0</td>\n",
       "      <td>0</td>\n",
       "      <td>0</td>\n",
       "    </tr>\n",
       "  </tbody>\n",
       "</table>\n",
       "</div>"
      ],
      "text/plain": [
       "   user_id  device  sex  month  day_of_week  page_home_page  page_search_page  \\\n",
       "0   450007       0    0      2            5               1                 0   \n",
       "1   756838       0    1      1            1               1                 0   \n",
       "2   568983       0    1      9            4               1                 1   \n",
       "3   190794       0    0      2            2               1                 1   \n",
       "4   537909       0    1      1            3               1                 0   \n",
       "\n",
       "   page_payment_page  page_payment_confirmation_page  \n",
       "0                  0                               0  \n",
       "1                  0                               0  \n",
       "2                  0                               0  \n",
       "3                  0                               0  \n",
       "4                  0                               0  "
      ]
     },
     "execution_count": 10,
     "metadata": {},
     "output_type": "execute_result"
    }
   ],
   "source": [
    "le = preprocessing.LabelEncoder()\n",
    "le.fit(df['device'])\n",
    "df['device'] = le.transform(df['device'])\n",
    "\n",
    "le.fit(df['sex'])\n",
    "df['sex'] = le.transform(df['sex'])\n",
    "\n",
    "df.head()"
   ]
  },
  {
   "cell_type": "code",
   "execution_count": 11,
   "metadata": {},
   "outputs": [],
   "source": [
    "df.to_csv('all_merged.csv')"
   ]
  },
  {
   "cell_type": "code",
   "execution_count": 12,
   "metadata": {},
   "outputs": [
    {
     "data": {
      "text/plain": [
       "DecisionTreeClassifier(class_weight='balanced', criterion='gini', max_depth=4,\n",
       "                       max_features=None, max_leaf_nodes=None,\n",
       "                       min_impurity_decrease=0.001, min_impurity_split=None,\n",
       "                       min_samples_leaf=30, min_samples_split=2,\n",
       "                       min_weight_fraction_leaf=0.0, presort=False,\n",
       "                       random_state=None, splitter='best')"
      ]
     },
     "execution_count": 12,
     "metadata": {},
     "output_type": "execute_result"
    }
   ],
   "source": [
    "df_payment_conf_mobile = df.loc[df['device'] == 1].drop(['user_id', 'device', 'page_home_page', 'page_search_page',\n",
    "                                                         'page_payment_page', 'page_payment_confirmation_page'], axis = 1)\n",
    "tree = DecisionTreeClassifier(max_depth = 4, min_samples_leaf = 30, class_weight = 'balanced', min_impurity_decrease = 0.001)\n",
    "tree.fit(df_payment_conf_mobile, df.loc[df['device'] == 1]['page_payment_confirmation_page'])"
   ]
  },
  {
   "cell_type": "code",
   "execution_count": 13,
   "metadata": {},
   "outputs": [
    {
     "ename": "SyntaxError",
     "evalue": "invalid syntax (<ipython-input-13-49ed92879847>, line 7)",
     "output_type": "error",
     "traceback": [
      "\u001b[1;36m  File \u001b[1;32m\"<ipython-input-13-49ed92879847>\"\u001b[1;36m, line \u001b[1;32m7\u001b[0m\n\u001b[1;33m    dot -Tpng tree_payment_conf_mobile.dot -o mobile.png\u001b[0m\n\u001b[1;37m                                     ^\u001b[0m\n\u001b[1;31mSyntaxError\u001b[0m\u001b[1;31m:\u001b[0m invalid syntax\n"
     ]
    }
   ],
   "source": [
    "export_graphviz(tree, out_file = \"tree_payment_conf_mobile.dot\", feature_names = df_payment_conf_mobile.columns, \n",
    "                proportion = True, rotate = True)\n",
    "with open(\"tree_payment_conf_mobile.dot\") as f:\n",
    "    dot_graph = f.read()\n",
    "s = Source.from_file(\"tree_payment_conf_mobile.dot\")\n",
    "s.view()\n",
    "dot -Tpng tree_payment_conf_mobile.dot -o mobile.png"
   ]
  },
  {
   "cell_type": "code",
   "execution_count": null,
   "metadata": {},
   "outputs": [],
   "source": [
    "Image(filename='desktop.png')"
   ]
  },
  {
   "cell_type": "code",
   "execution_count": null,
   "metadata": {},
   "outputs": [],
   "source": [
    "df_payment_conf_desktop = df.loc[df['device'] == 0].drop(['user_id','device','page_home_page','page_search_page', \n",
    "                                                          'page_payment_page', 'page_payment_confirmation_page'], axis=1)\n",
    "tree = DecisionTreeClassifier(max_depth = 4, min_samples_leaf = 30, class_weight = 'balanced', min_impurity_decrease = 0.001)\n",
    "tree.fit(df_payment_conf_desktop, df.loc[df['device'] == 0]['page_payment_confirmation_page'])"
   ]
  },
  {
   "cell_type": "code",
   "execution_count": null,
   "metadata": {},
   "outputs": [],
   "source": [
    "export_graphviz(tree, out_file=\"tree_payment_conf_desktop.dot\", feature_names=df_payment_conf_mobile.columns, \n",
    "                proportion=True, rotate=True)\n",
    "with open(\"tree_payment_conf_desktop.dot\") as f:\n",
    "    dot_graph = f.read()\n",
    "s = Source.from_file(\"tree_payment_conf_desktop.dot\")\n",
    "s.view()"
   ]
  },
  {
   "cell_type": "code",
   "execution_count": null,
   "metadata": {},
   "outputs": [],
   "source": [
    "Image(filename='mobile.png')"
   ]
  },
  {
   "cell_type": "code",
   "execution_count": null,
   "metadata": {},
   "outputs": [],
   "source": []
  }
 ],
 "metadata": {
  "kernelspec": {
   "display_name": "Python 3",
   "language": "python",
   "name": "python3"
  },
  "language_info": {
   "codemirror_mode": {
    "name": "ipython",
    "version": 3
   },
   "file_extension": ".py",
   "mimetype": "text/x-python",
   "name": "python",
   "nbconvert_exporter": "python",
   "pygments_lexer": "ipython3",
   "version": "3.7.6"
  }
 },
 "nbformat": 4,
 "nbformat_minor": 2
}
